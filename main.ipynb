{
 "cells": [
  {
   "cell_type": "code",
   "execution_count": 2,
   "id": "initial_id",
   "metadata": {
    "collapsed": true,
    "ExecuteTime": {
     "end_time": "2024-10-27T19:10:14.829687Z",
     "start_time": "2024-10-27T19:10:05.015329Z"
    }
   },
   "outputs": [],
   "source": [
    "# imports\n",
    "from glob import glob\n",
    "import pandas as pd\n",
    "from sklearn.model_selection import train_test_split\n",
    "\n",
    "from utils import *"
   ]
  },
  {
   "cell_type": "code",
   "outputs": [
    {
     "name": "stdout",
     "output_type": "stream",
     "text": [
      "Found 3929 MRIs and 3929 masks\n"
     ]
    }
   ],
   "source": [
    "# loading image files\n",
    "\n",
    "mri_files = []\n",
    "mask_files = glob('../BrainMRI/lgg-mri-segmentation/kaggle_3m/*/*_mask*')\n",
    "\n",
    "for mask_file in mask_files:\n",
    "    mri_files.append(mask_file.replace('_mask',''))"
   ],
   "metadata": {
    "collapsed": false,
    "ExecuteTime": {
     "end_time": "2024-10-27T19:10:41.250908Z",
     "start_time": "2024-10-27T19:10:40.865340Z"
    }
   },
   "id": "b1e0932574af0d43",
   "execution_count": 3
  },
  {
   "cell_type": "code",
   "outputs": [],
   "source": [
    "# split data into train, test and validation sets\n",
    "\n",
    "data_frame = pd.DataFrame(data={'mri_files': mri_files, 'mask': mask_files })\n",
    "\n",
    "data_frame_train, data_frame_test = train_test_split(data_frame, test_size=0.1)\n",
    "\n",
    "data_frame_train, data_frame_val = train_test_split(data_frame_train, test_size=0.2)"
   ],
   "metadata": {
    "collapsed": false,
    "ExecuteTime": {
     "end_time": "2024-10-27T19:10:56.807823Z",
     "start_time": "2024-10-27T19:10:56.778278Z"
    }
   },
   "id": "458d2107117f1ba1",
   "execution_count": 4
  },
  {
   "cell_type": "code",
   "outputs": [],
   "source": [
    "# generate dataframes for train, test and validation sets\n",
    "batch_size = 32\n",
    "\n",
    "train_generator_param = dict(rotation_range=0.3,\n",
    "                            width_shift_range=0.05,\n",
    "                            height_shift_range=0.05,\n",
    "                            shear_range=0.05,\n",
    "                            fill_mode='nearest')\n",
    "\n",
    "train_gen = train_generator(data_frame_train, batch_size,\n",
    "                                train_generator_param,\n",
    "                                target_size=(256, 256))\n",
    "    \n",
    "test_gen = train_generator(data_frame_val, batch_size,\n",
    "                                dict(),\n",
    "                                target_size=(256, 256))"
   ],
   "metadata": {
    "collapsed": false,
    "ExecuteTime": {
     "end_time": "2024-10-27T19:10:58.489547Z",
     "start_time": "2024-10-27T19:10:58.484824Z"
    }
   },
   "id": "cc893309c3d5cf9e",
   "execution_count": 5
  }
 ],
 "metadata": {
  "kernelspec": {
   "display_name": "Python 3",
   "language": "python",
   "name": "python3"
  },
  "language_info": {
   "codemirror_mode": {
    "name": "ipython",
    "version": 2
   },
   "file_extension": ".py",
   "mimetype": "text/x-python",
   "name": "python",
   "nbconvert_exporter": "python",
   "pygments_lexer": "ipython2",
   "version": "2.7.6"
  }
 },
 "nbformat": 4,
 "nbformat_minor": 5
}
